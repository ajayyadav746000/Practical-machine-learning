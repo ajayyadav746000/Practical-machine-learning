{
 "cells": [
  {
   "cell_type": "code",
   "execution_count": 1,
   "metadata": {},
   "outputs": [],
   "source": [
    "import numpy as np\n",
    "import pandas as pd"
   ]
  },
  {
   "cell_type": "code",
   "execution_count": 2,
   "metadata": {},
   "outputs": [],
   "source": [
    "from sklearn.impute import SimpleImputer\n",
    "from sklearn.preprocessing import OneHotEncoder\n",
    "from sklearn.preprocessing import OrdinalEncoder"
   ]
  },
  {
   "cell_type": "code",
   "execution_count": 3,
   "metadata": {},
   "outputs": [],
   "source": [
    "df = pd.read_csv('covid_toy.csv')\n",
    "x = df.iloc[:, :-1].values\n",
    "y = df.iloc[:, -1].values"
   ]
  },
  {
   "cell_type": "code",
   "execution_count": 4,
   "metadata": {},
   "outputs": [
    {
     "data": {
      "text/html": [
       "<div>\n",
       "<style scoped>\n",
       "    .dataframe tbody tr th:only-of-type {\n",
       "        vertical-align: middle;\n",
       "    }\n",
       "\n",
       "    .dataframe tbody tr th {\n",
       "        vertical-align: top;\n",
       "    }\n",
       "\n",
       "    .dataframe thead th {\n",
       "        text-align: right;\n",
       "    }\n",
       "</style>\n",
       "<table border=\"1\" class=\"dataframe\">\n",
       "  <thead>\n",
       "    <tr style=\"text-align: right;\">\n",
       "      <th></th>\n",
       "      <th>age</th>\n",
       "      <th>gender</th>\n",
       "      <th>fever</th>\n",
       "      <th>cough</th>\n",
       "      <th>city</th>\n",
       "      <th>has_covid</th>\n",
       "    </tr>\n",
       "  </thead>\n",
       "  <tbody>\n",
       "    <tr>\n",
       "      <th>0</th>\n",
       "      <td>60</td>\n",
       "      <td>Male</td>\n",
       "      <td>103.0</td>\n",
       "      <td>Mild</td>\n",
       "      <td>Kolkata</td>\n",
       "      <td>No</td>\n",
       "    </tr>\n",
       "    <tr>\n",
       "      <th>1</th>\n",
       "      <td>27</td>\n",
       "      <td>Male</td>\n",
       "      <td>100.0</td>\n",
       "      <td>Mild</td>\n",
       "      <td>Delhi</td>\n",
       "      <td>Yes</td>\n",
       "    </tr>\n",
       "    <tr>\n",
       "      <th>2</th>\n",
       "      <td>42</td>\n",
       "      <td>Male</td>\n",
       "      <td>101.0</td>\n",
       "      <td>Mild</td>\n",
       "      <td>Delhi</td>\n",
       "      <td>No</td>\n",
       "    </tr>\n",
       "    <tr>\n",
       "      <th>3</th>\n",
       "      <td>31</td>\n",
       "      <td>Female</td>\n",
       "      <td>98.0</td>\n",
       "      <td>Mild</td>\n",
       "      <td>Kolkata</td>\n",
       "      <td>No</td>\n",
       "    </tr>\n",
       "    <tr>\n",
       "      <th>4</th>\n",
       "      <td>65</td>\n",
       "      <td>Female</td>\n",
       "      <td>101.0</td>\n",
       "      <td>Mild</td>\n",
       "      <td>Mumbai</td>\n",
       "      <td>No</td>\n",
       "    </tr>\n",
       "  </tbody>\n",
       "</table>\n",
       "</div>"
      ],
      "text/plain": [
       "   age  gender  fever cough     city has_covid\n",
       "0   60    Male  103.0  Mild  Kolkata        No\n",
       "1   27    Male  100.0  Mild    Delhi       Yes\n",
       "2   42    Male  101.0  Mild    Delhi        No\n",
       "3   31  Female   98.0  Mild  Kolkata        No\n",
       "4   65  Female  101.0  Mild   Mumbai        No"
      ]
     },
     "execution_count": 4,
     "metadata": {},
     "output_type": "execute_result"
    }
   ],
   "source": [
    "df.head()"
   ]
  },
  {
   "cell_type": "code",
   "execution_count": 5,
   "metadata": {},
   "outputs": [
    {
     "data": {
      "text/plain": [
       "age           0\n",
       "gender        0\n",
       "fever        10\n",
       "cough         0\n",
       "city          0\n",
       "has_covid     0\n",
       "dtype: int64"
      ]
     },
     "execution_count": 5,
     "metadata": {},
     "output_type": "execute_result"
    }
   ],
   "source": [
    "df.isnull().sum()"
   ]
  },
  {
   "cell_type": "code",
   "execution_count": 6,
   "metadata": {},
   "outputs": [],
   "source": [
    "from sklearn.model_selection import train_test_split\n",
    "#X_train,X_test,y_train,y_test = train_test_split(df.drop(columns=['has_covid']),df['has_covid'],test_size=0.2)\n",
    "X_train,X_test,y_train,y_test = train_test_split(x,y,test_size=0.2)"
   ]
  },
  {
   "cell_type": "code",
   "execution_count": 7,
   "metadata": {},
   "outputs": [
    {
     "data": {
      "text/plain": [
       "array([[8, 'Female', 101.0, 'Mild', 'Kolkata'],\n",
       "       [16, 'Male', 104.0, 'Mild', 'Kolkata'],\n",
       "       [64, 'Female', 98.0, 'Mild', 'Bangalore'],\n",
       "       [48, 'Female', 103.0, 'Mild', 'Kolkata'],\n",
       "       [10, 'Male', 100.0, 'Mild', 'Bangalore'],\n",
       "       [20, 'Male', 102.0, 'Strong', 'Delhi'],\n",
       "       [16, 'Female', 103.0, 'Mild', 'Bangalore'],\n",
       "       [12, 'Male', 98.0, 'Strong', 'Bangalore'],\n",
       "       [27, 'Male', 100.0, 'Mild', 'Delhi'],\n",
       "       [33, 'Female', 102.0, 'Strong', 'Delhi'],\n",
       "       [60, 'Male', 103.0, 'Mild', 'Kolkata'],\n",
       "       [54, 'Female', 104.0, 'Strong', 'Kolkata'],\n",
       "       [15, 'Male', 101.0, 'Mild', 'Delhi'],\n",
       "       [47, 'Female', 100.0, 'Strong', 'Bangalore'],\n",
       "       [44, 'Male', 104.0, 'Mild', 'Mumbai'],\n",
       "       [47, 'Male', 101.0, 'Strong', 'Bangalore'],\n",
       "       [83, 'Female', 101.0, 'Mild', 'Kolkata'],\n",
       "       [69, 'Female', 103.0, 'Mild', 'Kolkata'],\n",
       "       [70, 'Male', 103.0, 'Strong', 'Kolkata'],\n",
       "       [34, 'Female', 104.0, 'Strong', 'Delhi'],\n",
       "       [23, 'Male', 98.0, 'Strong', 'Mumbai'],\n",
       "       [72, 'Male', 99.0, 'Mild', 'Bangalore'],\n",
       "       [64, 'Female', 101.0, 'Mild', 'Delhi'],\n",
       "       [5, 'Female', 100.0, 'Mild', 'Kolkata'],\n",
       "       [38, 'Male', nan, 'Mild', 'Delhi'],\n",
       "       [22, 'Female', 99.0, 'Mild', 'Bangalore'],\n",
       "       [79, 'Male', nan, 'Strong', 'Kolkata'],\n",
       "       [75, 'Female', nan, 'Mild', 'Delhi'],\n",
       "       [55, 'Male', 100.0, 'Mild', 'Kolkata'],\n",
       "       [46, 'Male', 103.0, 'Strong', 'Bangalore'],\n",
       "       [11, 'Male', 100.0, 'Mild', 'Bangalore'],\n",
       "       [56, 'Female', 104.0, 'Strong', 'Bangalore'],\n",
       "       [65, 'Female', 101.0, 'Mild', 'Mumbai'],\n",
       "       [20, 'Female', nan, 'Strong', 'Mumbai'],\n",
       "       [81, 'Female', 101.0, 'Mild', 'Mumbai'],\n",
       "       [81, 'Female', 98.0, 'Strong', 'Mumbai'],\n",
       "       [71, 'Female', 98.0, 'Strong', 'Kolkata'],\n",
       "       [34, 'Female', nan, 'Strong', 'Mumbai'],\n",
       "       [19, 'Female', 100.0, 'Strong', 'Bangalore'],\n",
       "       [19, 'Female', 100.0, 'Mild', 'Kolkata'],\n",
       "       [10, 'Female', 98.0, 'Strong', 'Kolkata'],\n",
       "       [6, 'Female', 104.0, 'Mild', 'Kolkata'],\n",
       "       [68, 'Female', 101.0, 'Strong', 'Delhi'],\n",
       "       [82, 'Female', 102.0, 'Strong', 'Kolkata'],\n",
       "       [65, 'Female', 98.0, 'Mild', 'Mumbai'],\n",
       "       [59, 'Female', 99.0, 'Strong', 'Delhi'],\n",
       "       [14, 'Male', 101.0, 'Strong', 'Bangalore'],\n",
       "       [51, 'Male', 104.0, 'Mild', 'Bangalore'],\n",
       "       [11, 'Female', 100.0, 'Strong', 'Kolkata'],\n",
       "       [24, 'Male', 98.0, 'Mild', 'Kolkata'],\n",
       "       [83, 'Male', 103.0, 'Mild', 'Kolkata'],\n",
       "       [49, 'Female', 101.0, 'Mild', 'Delhi'],\n",
       "       [18, 'Female', 104.0, 'Mild', 'Bangalore'],\n",
       "       [38, 'Female', 101.0, 'Mild', 'Bangalore'],\n",
       "       [24, 'Female', 102.0, 'Strong', 'Bangalore'],\n",
       "       [25, 'Female', 99.0, 'Strong', 'Kolkata'],\n",
       "       [25, 'Male', 104.0, 'Mild', 'Bangalore'],\n",
       "       [51, 'Female', 101.0, 'Strong', 'Kolkata'],\n",
       "       [75, 'Female', 104.0, 'Strong', 'Delhi'],\n",
       "       [65, 'Male', 99.0, 'Mild', 'Delhi'],\n",
       "       [31, 'Female', 98.0, 'Mild', 'Kolkata'],\n",
       "       [74, 'Male', 102.0, 'Mild', 'Mumbai'],\n",
       "       [19, 'Male', 101.0, 'Mild', 'Delhi'],\n",
       "       [5, 'Female', 98.0, 'Strong', 'Mumbai'],\n",
       "       [49, 'Female', 102.0, 'Mild', 'Delhi'],\n",
       "       [5, 'Male', 102.0, 'Mild', 'Kolkata'],\n",
       "       [34, 'Male', 98.0, 'Strong', 'Kolkata'],\n",
       "       [42, 'Female', nan, 'Strong', 'Bangalore'],\n",
       "       [73, 'Female', 103.0, 'Mild', 'Delhi'],\n",
       "       [19, 'Female', 101.0, 'Mild', 'Mumbai'],\n",
       "       [12, 'Female', 104.0, 'Mild', 'Bangalore'],\n",
       "       [82, 'Male', nan, 'Mild', 'Kolkata'],\n",
       "       [50, 'Female', 103.0, 'Mild', 'Kolkata'],\n",
       "       [82, 'Female', 102.0, 'Strong', 'Bangalore'],\n",
       "       [13, 'Female', 100.0, 'Strong', 'Kolkata'],\n",
       "       [71, 'Male', nan, 'Strong', 'Kolkata'],\n",
       "       [42, 'Male', 104.0, 'Mild', 'Mumbai'],\n",
       "       [64, 'Male', 102.0, 'Mild', 'Bangalore'],\n",
       "       [27, 'Male', 100.0, 'Mild', 'Delhi'],\n",
       "       [49, 'Female', 99.0, 'Strong', 'Bangalore']], dtype=object)"
      ]
     },
     "execution_count": 7,
     "metadata": {},
     "output_type": "execute_result"
    }
   ],
   "source": [
    "X_train"
   ]
  },
  {
   "cell_type": "markdown",
   "metadata": {},
   "source": [
    "## 1. Impute fever column\n"
   ]
  },
  {
   "cell_type": "code",
   "execution_count": 8,
   "metadata": {},
   "outputs": [],
   "source": [
    "# adding simple imputer to fever col\n",
    "si = SimpleImputer()\n",
    "#X_train_fever = si.fit_transform(X_train[:,1])\n",
    "X_train_fever = si.fit_transform(X_train[:,2].reshape(-1,1))\n",
    "\n",
    "# also the test data\n",
    "#X_test_fever = si.fit_transform(X_test[['fever']])\n",
    "X_test_fever = si.fit_transform(X_test[:,2].reshape(-1,1))                                 \n",
    "#X_train_fever.shape"
   ]
  },
  {
   "cell_type": "code",
   "execution_count": 9,
   "metadata": {},
   "outputs": [
    {
     "data": {
      "text/plain": [
       "(80, 1)"
      ]
     },
     "execution_count": 9,
     "metadata": {},
     "output_type": "execute_result"
    }
   ],
   "source": [
    "# Ordinalencoding -> cough\n",
    "oe = OrdinalEncoder(categories=[['Mild','Strong']])\n",
    "X_train_cough = oe.fit_transform(X_train[:,3].reshape(-1,1))\n",
    "\n",
    "# also the test data\n",
    "X_test_cough = oe.fit_transform(X_test[:,3].reshape(-1,1))\n",
    "\n",
    "X_train_cough.shape"
   ]
  },
  {
   "cell_type": "code",
   "execution_count": 10,
   "metadata": {},
   "outputs": [
    {
     "name": "stderr",
     "output_type": "stream",
     "text": [
      "C:\\Users\\anilk\\anaconda311\\lib\\site-packages\\sklearn\\preprocessing\\_encoders.py:828: FutureWarning: `sparse` was renamed to `sparse_output` in version 1.2 and will be removed in 1.4. `sparse_output` is ignored unless you leave `sparse` to its default value.\n",
      "  warnings.warn(\n",
      "C:\\Users\\anilk\\anaconda311\\lib\\site-packages\\sklearn\\preprocessing\\_encoders.py:828: FutureWarning: `sparse` was renamed to `sparse_output` in version 1.2 and will be removed in 1.4. `sparse_output` is ignored unless you leave `sparse` to its default value.\n",
      "  warnings.warn(\n",
      "C:\\Users\\anilk\\anaconda311\\lib\\site-packages\\sklearn\\preprocessing\\_encoders.py:828: FutureWarning: `sparse` was renamed to `sparse_output` in version 1.2 and will be removed in 1.4. `sparse_output` is ignored unless you leave `sparse` to its default value.\n",
      "  warnings.warn(\n",
      "C:\\Users\\anilk\\anaconda311\\lib\\site-packages\\sklearn\\preprocessing\\_encoders.py:828: FutureWarning: `sparse` was renamed to `sparse_output` in version 1.2 and will be removed in 1.4. `sparse_output` is ignored unless you leave `sparse` to its default value.\n",
      "  warnings.warn(\n"
     ]
    },
    {
     "data": {
      "text/plain": [
       "array([[0., 1., 0.],\n",
       "       [0., 1., 0.],\n",
       "       [0., 0., 0.],\n",
       "       [0., 1., 0.],\n",
       "       [0., 0., 0.],\n",
       "       [1., 0., 0.],\n",
       "       [0., 0., 0.],\n",
       "       [0., 0., 0.],\n",
       "       [1., 0., 0.],\n",
       "       [1., 0., 0.],\n",
       "       [0., 1., 0.],\n",
       "       [0., 1., 0.],\n",
       "       [1., 0., 0.],\n",
       "       [0., 0., 0.],\n",
       "       [0., 0., 1.],\n",
       "       [0., 0., 0.],\n",
       "       [0., 1., 0.],\n",
       "       [0., 1., 0.],\n",
       "       [0., 1., 0.],\n",
       "       [1., 0., 0.],\n",
       "       [0., 0., 1.],\n",
       "       [0., 0., 0.],\n",
       "       [1., 0., 0.],\n",
       "       [0., 1., 0.],\n",
       "       [1., 0., 0.],\n",
       "       [0., 0., 0.],\n",
       "       [0., 1., 0.],\n",
       "       [1., 0., 0.],\n",
       "       [0., 1., 0.],\n",
       "       [0., 0., 0.],\n",
       "       [0., 0., 0.],\n",
       "       [0., 0., 0.],\n",
       "       [0., 0., 1.],\n",
       "       [0., 0., 1.],\n",
       "       [0., 0., 1.],\n",
       "       [0., 0., 1.],\n",
       "       [0., 1., 0.],\n",
       "       [0., 0., 1.],\n",
       "       [0., 0., 0.],\n",
       "       [0., 1., 0.],\n",
       "       [0., 1., 0.],\n",
       "       [0., 1., 0.],\n",
       "       [1., 0., 0.],\n",
       "       [0., 1., 0.],\n",
       "       [0., 0., 1.],\n",
       "       [1., 0., 0.],\n",
       "       [0., 0., 0.],\n",
       "       [0., 0., 0.],\n",
       "       [0., 1., 0.],\n",
       "       [0., 1., 0.],\n",
       "       [0., 1., 0.],\n",
       "       [1., 0., 0.],\n",
       "       [0., 0., 0.],\n",
       "       [0., 0., 0.],\n",
       "       [0., 0., 0.],\n",
       "       [0., 1., 0.],\n",
       "       [0., 0., 0.],\n",
       "       [0., 1., 0.],\n",
       "       [1., 0., 0.],\n",
       "       [1., 0., 0.],\n",
       "       [0., 1., 0.],\n",
       "       [0., 0., 1.],\n",
       "       [1., 0., 0.],\n",
       "       [0., 0., 1.],\n",
       "       [1., 0., 0.],\n",
       "       [0., 1., 0.],\n",
       "       [0., 1., 0.],\n",
       "       [0., 0., 0.],\n",
       "       [1., 0., 0.],\n",
       "       [0., 0., 1.],\n",
       "       [0., 0., 0.],\n",
       "       [0., 1., 0.],\n",
       "       [0., 1., 0.],\n",
       "       [0., 0., 0.],\n",
       "       [0., 1., 0.],\n",
       "       [0., 1., 0.],\n",
       "       [0., 0., 1.],\n",
       "       [0., 0., 0.],\n",
       "       [1., 0., 0.],\n",
       "       [0., 0., 0.]])"
      ]
     },
     "execution_count": 10,
     "metadata": {},
     "output_type": "execute_result"
    }
   ],
   "source": [
    "# OneHotEncoding -> gender,city\n",
    "ohe = OneHotEncoder(drop='first',sparse=False)\n",
    "X_train_gender = ohe.fit_transform(X_train[:,1].reshape(-1,1))\n",
    "X_train_city = ohe.fit_transform(X_train[:,4].reshape(-1,1))\n",
    "# also the test data\n",
    "X_test_gender = ohe.fit_transform(X_test[:,1].reshape(-1,1))\n",
    "X_test_city = ohe.fit_transform(X_test[:,4].reshape(-1,1))\n",
    "\n",
    "\n",
    "X_train_city\n"
   ]
  },
  {
   "cell_type": "code",
   "execution_count": 11,
   "metadata": {},
   "outputs": [
    {
     "data": {
      "text/plain": [
       "(80, 1)"
      ]
     },
     "execution_count": 11,
     "metadata": {},
     "output_type": "execute_result"
    }
   ],
   "source": [
    "# Extracting Age\n",
    "X_train_age = X_train[:,0].reshape(-1,1)\n",
    "# also the test data\n",
    "X_test_age = X_test[:,0].reshape(-1,1)\n",
    "\n",
    "X_train_age.shape"
   ]
  },
  {
   "cell_type": "code",
   "execution_count": 12,
   "metadata": {},
   "outputs": [
    {
     "data": {
      "text/plain": [
       "array([[8, 101.0, 0.0, 0.0, 1.0, 0.0, 0.0],\n",
       "       [16, 104.0, 1.0, 0.0, 1.0, 0.0, 0.0],\n",
       "       [64, 98.0, 0.0, 0.0, 0.0, 0.0, 0.0],\n",
       "       [48, 103.0, 0.0, 0.0, 1.0, 0.0, 0.0],\n",
       "       [10, 100.0, 1.0, 0.0, 0.0, 0.0, 0.0],\n",
       "       [20, 102.0, 1.0, 1.0, 0.0, 0.0, 1.0],\n",
       "       [16, 103.0, 0.0, 0.0, 0.0, 0.0, 0.0],\n",
       "       [12, 98.0, 1.0, 0.0, 0.0, 0.0, 1.0],\n",
       "       [27, 100.0, 1.0, 1.0, 0.0, 0.0, 0.0],\n",
       "       [33, 102.0, 0.0, 1.0, 0.0, 0.0, 1.0],\n",
       "       [60, 103.0, 1.0, 0.0, 1.0, 0.0, 0.0],\n",
       "       [54, 104.0, 0.0, 0.0, 1.0, 0.0, 1.0],\n",
       "       [15, 101.0, 1.0, 1.0, 0.0, 0.0, 0.0],\n",
       "       [47, 100.0, 0.0, 0.0, 0.0, 0.0, 1.0],\n",
       "       [44, 104.0, 1.0, 0.0, 0.0, 1.0, 0.0],\n",
       "       [47, 101.0, 1.0, 0.0, 0.0, 0.0, 1.0],\n",
       "       [83, 101.0, 0.0, 0.0, 1.0, 0.0, 0.0],\n",
       "       [69, 103.0, 0.0, 0.0, 1.0, 0.0, 0.0],\n",
       "       [70, 103.0, 1.0, 0.0, 1.0, 0.0, 1.0],\n",
       "       [34, 104.0, 0.0, 1.0, 0.0, 0.0, 1.0],\n",
       "       [23, 98.0, 1.0, 0.0, 0.0, 1.0, 1.0],\n",
       "       [72, 99.0, 1.0, 0.0, 0.0, 0.0, 0.0],\n",
       "       [64, 101.0, 0.0, 1.0, 0.0, 0.0, 0.0],\n",
       "       [5, 100.0, 0.0, 0.0, 1.0, 0.0, 0.0],\n",
       "       [38, 101.09722222222223, 1.0, 1.0, 0.0, 0.0, 0.0],\n",
       "       [22, 99.0, 0.0, 0.0, 0.0, 0.0, 0.0],\n",
       "       [79, 101.09722222222223, 1.0, 0.0, 1.0, 0.0, 1.0],\n",
       "       [75, 101.09722222222223, 0.0, 1.0, 0.0, 0.0, 0.0],\n",
       "       [55, 100.0, 1.0, 0.0, 1.0, 0.0, 0.0],\n",
       "       [46, 103.0, 1.0, 0.0, 0.0, 0.0, 1.0],\n",
       "       [11, 100.0, 1.0, 0.0, 0.0, 0.0, 0.0],\n",
       "       [56, 104.0, 0.0, 0.0, 0.0, 0.0, 1.0],\n",
       "       [65, 101.0, 0.0, 0.0, 0.0, 1.0, 0.0],\n",
       "       [20, 101.09722222222223, 0.0, 0.0, 0.0, 1.0, 1.0],\n",
       "       [81, 101.0, 0.0, 0.0, 0.0, 1.0, 0.0],\n",
       "       [81, 98.0, 0.0, 0.0, 0.0, 1.0, 1.0],\n",
       "       [71, 98.0, 0.0, 0.0, 1.0, 0.0, 1.0],\n",
       "       [34, 101.09722222222223, 0.0, 0.0, 0.0, 1.0, 1.0],\n",
       "       [19, 100.0, 0.0, 0.0, 0.0, 0.0, 1.0],\n",
       "       [19, 100.0, 0.0, 0.0, 1.0, 0.0, 0.0],\n",
       "       [10, 98.0, 0.0, 0.0, 1.0, 0.0, 1.0],\n",
       "       [6, 104.0, 0.0, 0.0, 1.0, 0.0, 0.0],\n",
       "       [68, 101.0, 0.0, 1.0, 0.0, 0.0, 1.0],\n",
       "       [82, 102.0, 0.0, 0.0, 1.0, 0.0, 1.0],\n",
       "       [65, 98.0, 0.0, 0.0, 0.0, 1.0, 0.0],\n",
       "       [59, 99.0, 0.0, 1.0, 0.0, 0.0, 1.0],\n",
       "       [14, 101.0, 1.0, 0.0, 0.0, 0.0, 1.0],\n",
       "       [51, 104.0, 1.0, 0.0, 0.0, 0.0, 0.0],\n",
       "       [11, 100.0, 0.0, 0.0, 1.0, 0.0, 1.0],\n",
       "       [24, 98.0, 1.0, 0.0, 1.0, 0.0, 0.0],\n",
       "       [83, 103.0, 1.0, 0.0, 1.0, 0.0, 0.0],\n",
       "       [49, 101.0, 0.0, 1.0, 0.0, 0.0, 0.0],\n",
       "       [18, 104.0, 0.0, 0.0, 0.0, 0.0, 0.0],\n",
       "       [38, 101.0, 0.0, 0.0, 0.0, 0.0, 0.0],\n",
       "       [24, 102.0, 0.0, 0.0, 0.0, 0.0, 1.0],\n",
       "       [25, 99.0, 0.0, 0.0, 1.0, 0.0, 1.0],\n",
       "       [25, 104.0, 1.0, 0.0, 0.0, 0.0, 0.0],\n",
       "       [51, 101.0, 0.0, 0.0, 1.0, 0.0, 1.0],\n",
       "       [75, 104.0, 0.0, 1.0, 0.0, 0.0, 1.0],\n",
       "       [65, 99.0, 1.0, 1.0, 0.0, 0.0, 0.0],\n",
       "       [31, 98.0, 0.0, 0.0, 1.0, 0.0, 0.0],\n",
       "       [74, 102.0, 1.0, 0.0, 0.0, 1.0, 0.0],\n",
       "       [19, 101.0, 1.0, 1.0, 0.0, 0.0, 0.0],\n",
       "       [5, 98.0, 0.0, 0.0, 0.0, 1.0, 1.0],\n",
       "       [49, 102.0, 0.0, 1.0, 0.0, 0.0, 0.0],\n",
       "       [5, 102.0, 1.0, 0.0, 1.0, 0.0, 0.0],\n",
       "       [34, 98.0, 1.0, 0.0, 1.0, 0.0, 1.0],\n",
       "       [42, 101.09722222222223, 0.0, 0.0, 0.0, 0.0, 1.0],\n",
       "       [73, 103.0, 0.0, 1.0, 0.0, 0.0, 0.0],\n",
       "       [19, 101.0, 0.0, 0.0, 0.0, 1.0, 0.0],\n",
       "       [12, 104.0, 0.0, 0.0, 0.0, 0.0, 0.0],\n",
       "       [82, 101.09722222222223, 1.0, 0.0, 1.0, 0.0, 0.0],\n",
       "       [50, 103.0, 0.0, 0.0, 1.0, 0.0, 0.0],\n",
       "       [82, 102.0, 0.0, 0.0, 0.0, 0.0, 1.0],\n",
       "       [13, 100.0, 0.0, 0.0, 1.0, 0.0, 1.0],\n",
       "       [71, 101.09722222222223, 1.0, 0.0, 1.0, 0.0, 1.0],\n",
       "       [42, 104.0, 1.0, 0.0, 0.0, 1.0, 0.0],\n",
       "       [64, 102.0, 1.0, 0.0, 0.0, 0.0, 0.0],\n",
       "       [27, 100.0, 1.0, 1.0, 0.0, 0.0, 0.0],\n",
       "       [49, 99.0, 0.0, 0.0, 0.0, 0.0, 1.0]], dtype=object)"
      ]
     },
     "execution_count": 12,
     "metadata": {},
     "output_type": "execute_result"
    }
   ],
   "source": [
    "X_train_transformed = np.concatenate((X_train_age,X_train_fever,X_train_gender,X_train_city,X_train_cough),axis=1)\n",
    "# also the test data\n",
    "X_test_transformed = np.concatenate((X_test_age,X_test_fever,X_test_gender,X_test_city,X_test_cough),axis=1)\n",
    "\n",
    "X_train_transformed"
   ]
  },
  {
   "cell_type": "markdown",
   "metadata": {},
   "source": [
    "## using ColumnTransformer\n"
   ]
  },
  {
   "cell_type": "code",
   "execution_count": null,
   "metadata": {},
   "outputs": [],
   "source": []
  },
  {
   "cell_type": "code",
   "execution_count": 13,
   "metadata": {},
   "outputs": [],
   "source": [
    "from sklearn.compose import ColumnTransformer"
   ]
  },
  {
   "cell_type": "code",
   "execution_count": 14,
   "metadata": {},
   "outputs": [],
   "source": [
    "from sklearn.model_selection import train_test_split\n",
    "X_train,X_test,y_train,y_test = train_test_split(df.drop(columns=['has_covid']),df['has_covid'],test_size=0.2,random_state = 1)\n",
    "transformer = ColumnTransformer(transformers=[\n",
    "    ('tnf1',SimpleImputer(),['fever']),\n",
    "    ('tnf2',OrdinalEncoder(categories=[['Mild','Strong']]),['cough']),\n",
    "    ('tnf3',OneHotEncoder(sparse=False,drop='first'),['gender','city'])\n",
    "],remainder='passthrough')"
   ]
  },
  {
   "cell_type": "code",
   "execution_count": 15,
   "metadata": {},
   "outputs": [
    {
     "name": "stderr",
     "output_type": "stream",
     "text": [
      "C:\\Users\\anilk\\anaconda311\\lib\\site-packages\\sklearn\\preprocessing\\_encoders.py:828: FutureWarning: `sparse` was renamed to `sparse_output` in version 1.2 and will be removed in 1.4. `sparse_output` is ignored unless you leave `sparse` to its default value.\n",
      "  warnings.warn(\n"
     ]
    },
    {
     "data": {
      "text/plain": [
       "array([[101.        ,   0.        ,   1.        ,   1.        ,\n",
       "          0.        ,   0.        ,  42.        ],\n",
       "       [ 98.        ,   1.        ,   1.        ,   0.        ,\n",
       "          1.        ,   0.        ,  34.        ],\n",
       "       [101.        ,   0.        ,   0.        ,   0.        ,\n",
       "          0.        ,   0.        ,  20.        ],\n",
       "       [104.        ,   1.        ,   0.        ,   0.        ,\n",
       "          0.        ,   0.        ,  56.        ],\n",
       "       [100.95833333,   1.        ,   0.        ,   0.        ,\n",
       "          0.        ,   0.        ,  42.        ],\n",
       "       [102.        ,   1.        ,   0.        ,   0.        ,\n",
       "          0.        ,   0.        ,  82.        ],\n",
       "       [100.95833333,   1.        ,   1.        ,   0.        ,\n",
       "          1.        ,   0.        ,  79.        ],\n",
       "       [102.        ,   1.        ,   0.        ,   1.        ,\n",
       "          0.        ,   0.        ,  33.        ],\n",
       "       [101.        ,   0.        ,   0.        ,   0.        ,\n",
       "          0.        ,   1.        ,  19.        ],\n",
       "       [101.        ,   0.        ,   0.        ,   1.        ,\n",
       "          0.        ,   0.        ,  49.        ],\n",
       "       [ 99.        ,   0.        ,   1.        ,   0.        ,\n",
       "          0.        ,   0.        ,  65.        ],\n",
       "       [ 98.        ,   1.        ,   0.        ,   0.        ,\n",
       "          1.        ,   0.        ,  10.        ],\n",
       "       [ 99.        ,   0.        ,   0.        ,   0.        ,\n",
       "          0.        ,   1.        ,  60.        ],\n",
       "       [104.        ,   0.        ,   0.        ,   0.        ,\n",
       "          0.        ,   0.        ,  12.        ],\n",
       "       [100.        ,   0.        ,   0.        ,   0.        ,\n",
       "          1.        ,   0.        ,   5.        ],\n",
       "       [102.        ,   0.        ,   0.        ,   1.        ,\n",
       "          0.        ,   0.        ,  49.        ],\n",
       "       [ 99.        ,   1.        ,   1.        ,   0.        ,\n",
       "          0.        ,   0.        ,  66.        ],\n",
       "       [104.        ,   0.        ,   0.        ,   0.        ,\n",
       "          1.        ,   0.        ,   6.        ],\n",
       "       [ 98.        ,   0.        ,   0.        ,   1.        ,\n",
       "          0.        ,   0.        ,  80.        ],\n",
       "       [102.        ,   0.        ,   1.        ,   0.        ,\n",
       "          0.        ,   1.        ,  74.        ],\n",
       "       [104.        ,   0.        ,   1.        ,   0.        ,\n",
       "          0.        ,   0.        ,  25.        ],\n",
       "       [ 98.        ,   0.        ,   1.        ,   1.        ,\n",
       "          0.        ,   0.        ,  83.        ],\n",
       "       [101.        ,   0.        ,   0.        ,   0.        ,\n",
       "          1.        ,   0.        ,   8.        ],\n",
       "       [103.        ,   1.        ,   1.        ,   0.        ,\n",
       "          1.        ,   0.        ,  70.        ],\n",
       "       [104.        ,   0.        ,   0.        ,   0.        ,\n",
       "          1.        ,   0.        ,  17.        ],\n",
       "       [100.95833333,   0.        ,   1.        ,   0.        ,\n",
       "          1.        ,   0.        ,  82.        ],\n",
       "       [ 99.        ,   0.        ,   1.        ,   0.        ,\n",
       "          0.        ,   0.        ,  72.        ],\n",
       "       [100.95833333,   0.        ,   1.        ,   1.        ,\n",
       "          0.        ,   0.        ,  38.        ],\n",
       "       [100.        ,   0.        ,   0.        ,   0.        ,\n",
       "          1.        ,   0.        ,  19.        ],\n",
       "       [ 98.        ,   1.        ,   0.        ,   0.        ,\n",
       "          0.        ,   1.        ,   5.        ],\n",
       "       [ 99.        ,   0.        ,   0.        ,   0.        ,\n",
       "          0.        ,   0.        ,  22.        ],\n",
       "       [101.        ,   0.        ,   0.        ,   0.        ,\n",
       "          0.        ,   1.        ,  81.        ],\n",
       "       [100.        ,   1.        ,   0.        ,   0.        ,\n",
       "          1.        ,   0.        ,  13.        ],\n",
       "       [101.        ,   0.        ,   0.        ,   0.        ,\n",
       "          0.        ,   1.        ,  65.        ],\n",
       "       [ 98.        ,   1.        ,   1.        ,   0.        ,\n",
       "          0.        ,   1.        ,  23.        ],\n",
       "       [104.        ,   0.        ,   1.        ,   0.        ,\n",
       "          0.        ,   1.        ,  44.        ],\n",
       "       [ 98.        ,   0.        ,   1.        ,   0.        ,\n",
       "          0.        ,   0.        ,  73.        ],\n",
       "       [101.        ,   1.        ,   1.        ,   0.        ,\n",
       "          0.        ,   0.        ,  47.        ],\n",
       "       [ 98.        ,   0.        ,   0.        ,   0.        ,\n",
       "          1.        ,   0.        ,  31.        ],\n",
       "       [104.        ,   1.        ,   0.        ,   1.        ,\n",
       "          0.        ,   0.        ,  34.        ],\n",
       "       [101.        ,   0.        ,   1.        ,   1.        ,\n",
       "          0.        ,   0.        ,  15.        ],\n",
       "       [104.        ,   0.        ,   1.        ,   0.        ,\n",
       "          1.        ,   0.        ,  51.        ],\n",
       "       [101.        ,   1.        ,   0.        ,   1.        ,\n",
       "          0.        ,   0.        ,  68.        ],\n",
       "       [100.        ,   0.        ,   1.        ,   1.        ,\n",
       "          0.        ,   0.        ,  27.        ],\n",
       "       [104.        ,   0.        ,   0.        ,   0.        ,\n",
       "          0.        ,   0.        ,  18.        ],\n",
       "       [103.        ,   1.        ,   1.        ,   0.        ,\n",
       "          0.        ,   0.        ,  46.        ],\n",
       "       [100.        ,   1.        ,   0.        ,   0.        ,\n",
       "          0.        ,   0.        ,  19.        ],\n",
       "       [102.        ,   1.        ,   0.        ,   0.        ,\n",
       "          0.        ,   0.        ,  24.        ],\n",
       "       [103.        ,   0.        ,   1.        ,   0.        ,\n",
       "          1.        ,   0.        ,  60.        ],\n",
       "       [ 99.        ,   1.        ,   0.        ,   1.        ,\n",
       "          0.        ,   0.        ,  59.        ],\n",
       "       [ 99.        ,   1.        ,   0.        ,   0.        ,\n",
       "          0.        ,   0.        ,  49.        ],\n",
       "       [ 98.        ,   1.        ,   0.        ,   0.        ,\n",
       "          1.        ,   0.        ,  71.        ],\n",
       "       [ 98.        ,   1.        ,   0.        ,   0.        ,\n",
       "          0.        ,   1.        ,  81.        ],\n",
       "       [100.        ,   0.        ,   1.        ,   0.        ,\n",
       "          0.        ,   0.        ,  10.        ],\n",
       "       [100.95833333,   1.        ,   0.        ,   0.        ,\n",
       "          0.        ,   1.        ,  20.        ],\n",
       "       [101.        ,   1.        ,   0.        ,   0.        ,\n",
       "          1.        ,   0.        ,  51.        ],\n",
       "       [102.        ,   0.        ,   1.        ,   0.        ,\n",
       "          0.        ,   0.        ,  64.        ],\n",
       "       [104.        ,   1.        ,   0.        ,   0.        ,\n",
       "          1.        ,   0.        ,  54.        ],\n",
       "       [103.        ,   0.        ,   0.        ,   0.        ,\n",
       "          0.        ,   0.        ,  16.        ],\n",
       "       [104.        ,   0.        ,   1.        ,   0.        ,\n",
       "          0.        ,   0.        ,  51.        ],\n",
       "       [100.95833333,   1.        ,   0.        ,   0.        ,\n",
       "          0.        ,   1.        ,  34.        ],\n",
       "       [104.        ,   0.        ,   1.        ,   0.        ,\n",
       "          1.        ,   0.        ,  16.        ],\n",
       "       [ 98.        ,   0.        ,   0.        ,   0.        ,\n",
       "          0.        ,   1.        ,  65.        ],\n",
       "       [ 98.        ,   0.        ,   0.        ,   0.        ,\n",
       "          0.        ,   0.        ,  64.        ],\n",
       "       [ 98.        ,   1.        ,   1.        ,   0.        ,\n",
       "          0.        ,   0.        ,  12.        ],\n",
       "       [101.        ,   0.        ,   1.        ,   1.        ,\n",
       "          0.        ,   0.        ,  19.        ],\n",
       "       [100.95833333,   0.        ,   1.        ,   0.        ,\n",
       "          0.        ,   1.        ,  23.        ],\n",
       "       [101.        ,   1.        ,   1.        ,   0.        ,\n",
       "          0.        ,   0.        ,  14.        ],\n",
       "       [104.        ,   1.        ,   0.        ,   1.        ,\n",
       "          0.        ,   0.        ,  75.        ],\n",
       "       [100.        ,   0.        ,   1.        ,   0.        ,\n",
       "          0.        ,   0.        ,  80.        ],\n",
       "       [100.        ,   0.        ,   1.        ,   1.        ,\n",
       "          0.        ,   0.        ,  27.        ],\n",
       "       [103.        ,   0.        ,   0.        ,   0.        ,\n",
       "          1.        ,   0.        ,  69.        ],\n",
       "       [104.        ,   0.        ,   1.        ,   0.        ,\n",
       "          0.        ,   1.        ,  42.        ],\n",
       "       [103.        ,   0.        ,   0.        ,   0.        ,\n",
       "          1.        ,   0.        ,  48.        ],\n",
       "       [100.95833333,   0.        ,   0.        ,   0.        ,\n",
       "          0.        ,   0.        ,  84.        ],\n",
       "       [102.        ,   0.        ,   1.        ,   0.        ,\n",
       "          1.        ,   0.        ,   5.        ],\n",
       "       [101.        ,   0.        ,   0.        ,   1.        ,\n",
       "          0.        ,   0.        ,  64.        ],\n",
       "       [101.        ,   0.        ,   0.        ,   0.        ,\n",
       "          1.        ,   0.        ,  83.        ],\n",
       "       [ 99.        ,   1.        ,   0.        ,   0.        ,\n",
       "          1.        ,   0.        ,  25.        ],\n",
       "       [100.        ,   0.        ,   1.        ,   0.        ,\n",
       "          1.        ,   0.        ,  55.        ]])"
      ]
     },
     "execution_count": 15,
     "metadata": {},
     "output_type": "execute_result"
    }
   ],
   "source": [
    "X_train=transformer.fit_transform(X_train)\n",
    "X_train"
   ]
  },
  {
   "cell_type": "code",
   "execution_count": 16,
   "metadata": {},
   "outputs": [
    {
     "data": {
      "text/plain": [
       "(20, 7)"
      ]
     },
     "execution_count": 16,
     "metadata": {},
     "output_type": "execute_result"
    }
   ],
   "source": [
    "transformer.transform(X_test).shape"
   ]
  },
  {
   "cell_type": "code",
   "execution_count": null,
   "metadata": {},
   "outputs": [],
   "source": []
  }
 ],
 "metadata": {
  "kernelspec": {
   "display_name": "Python 3 (ipykernel)",
   "language": "python",
   "name": "python3"
  },
  "language_info": {
   "codemirror_mode": {
    "name": "ipython",
    "version": 3
   },
   "file_extension": ".py",
   "mimetype": "text/x-python",
   "name": "python",
   "nbconvert_exporter": "python",
   "pygments_lexer": "ipython3",
   "version": "3.10.9"
  }
 },
 "nbformat": 4,
 "nbformat_minor": 4
}
