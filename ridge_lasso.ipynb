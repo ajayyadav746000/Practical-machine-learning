{
 "cells": [
  {
   "cell_type": "code",
   "execution_count": 1,
   "id": "88d25863",
   "metadata": {},
   "outputs": [
    {
     "name": "stdout",
     "output_type": "stream",
     "text": [
      "(506, 14)\n",
      "        0     1     2   3      4      5     6       7   8      9     10  \\\n",
      "0  0.00632  18.0  2.31   0  0.538  6.575  65.2  4.0900   1  296.0  15.3   \n",
      "1  0.02731   0.0  7.07   0  0.469  6.421  78.9  4.9671   2  242.0  17.8   \n",
      "2  0.02729   0.0  7.07   0  0.469  7.185  61.1  4.9671   2  242.0  17.8   \n",
      "3  0.03237   0.0  2.18   0  0.458  6.998  45.8  6.0622   3  222.0  18.7   \n",
      "4  0.06905   0.0  2.18   0  0.458  7.147  54.2  6.0622   3  222.0  18.7   \n",
      "\n",
      "       11    12    13  \n",
      "0  396.90  4.98  24.0  \n",
      "1  396.90  9.14  21.6  \n",
      "2  392.83  4.03  34.7  \n",
      "3  394.63  2.94  33.4  \n",
      "4  396.90  5.33  36.2  \n"
     ]
    }
   ],
   "source": [
    "# load and summarize the housing dataset\n",
    "import pandas as pd\n",
    "import numpy as np\n",
    "from matplotlib import pyplot\n",
    "from sklearn.linear_model import Ridge\n",
    "# load dataset\n",
    "fname = 'housing.csv'\n",
    "dataset = pd.read_csv(fname, header=None)\n",
    "# summarize shape\n",
    "print(dataset.shape)\n",
    "# summarize first few lines\n",
    "print(dataset.head())"
   ]
  },
  {
   "cell_type": "code",
   "execution_count": 2,
   "id": "06263eb1",
   "metadata": {},
   "outputs": [],
   "source": [
    "X = dataset.iloc[:, :-1].values\n",
    "y = dataset.iloc[:, -1].values"
   ]
  },
  {
   "cell_type": "code",
   "execution_count": 3,
   "id": "a8f2f1e9",
   "metadata": {},
   "outputs": [],
   "source": [
    "from sklearn.model_selection import train_test_split\n",
    "X_train, X_test, y_train, y_test = train_test_split(X, y, test_size = 0.2, random_state = 0)"
   ]
  },
  {
   "cell_type": "code",
   "execution_count": 4,
   "id": "6f9544bb",
   "metadata": {},
   "outputs": [
    {
     "data": {
      "text/plain": [
       "array([[3.5809e-01, 0.0000e+00, 6.2000e+00, ..., 1.7400e+01, 3.9170e+02,\n",
       "        9.7100e+00],\n",
       "       [1.5876e-01, 0.0000e+00, 1.0810e+01, ..., 1.9200e+01, 3.7694e+02,\n",
       "        9.8800e+00],\n",
       "       [1.1329e-01, 3.0000e+01, 4.9300e+00, ..., 1.6600e+01, 3.9125e+02,\n",
       "        1.1380e+01],\n",
       "       ...,\n",
       "       [1.5098e-01, 0.0000e+00, 1.0010e+01, ..., 1.7800e+01, 3.9451e+02,\n",
       "        1.0300e+01],\n",
       "       [2.2927e-01, 0.0000e+00, 6.9100e+00, ..., 1.7900e+01, 3.9274e+02,\n",
       "        1.8800e+01],\n",
       "       [1.3914e-01, 0.0000e+00, 4.0500e+00, ..., 1.6600e+01, 3.9690e+02,\n",
       "        1.4690e+01]])"
      ]
     },
     "execution_count": 4,
     "metadata": {},
     "output_type": "execute_result"
    }
   ],
   "source": [
    "from sklearn.linear_model import LinearRegression\n",
    "regressor = LinearRegression()\n",
    "regressor.fit(X_train, y_train)\n",
    "regressor.coef_\n",
    "#X_train"
   ]
  },
  {
   "cell_type": "code",
   "execution_count": 5,
   "id": "2ddc5f79",
   "metadata": {},
   "outputs": [
    {
     "name": "stdout",
     "output_type": "stream",
     "text": [
      "[[24.89 22.6 ]\n",
      " [23.72 50.  ]\n",
      " [29.36 23.  ]\n",
      " [12.12  8.3 ]\n",
      " [21.44 21.2 ]\n",
      " [19.28 19.9 ]\n",
      " [20.5  20.6 ]\n",
      " [21.36 18.7 ]\n",
      " [18.9  16.1 ]\n",
      " [19.93 18.6 ]\n",
      " [ 5.13  8.8 ]\n",
      " [16.39 17.2 ]\n",
      " [17.08 14.9 ]\n",
      " [ 5.59 10.5 ]\n",
      " [40.   50.  ]\n",
      " [32.5  29.  ]\n",
      " [22.46 23.  ]\n",
      " [36.85 33.3 ]\n",
      " [30.86 29.4 ]\n",
      " [23.15 21.  ]\n",
      " [24.77 23.8 ]\n",
      " [24.67 19.1 ]\n",
      " [20.6  20.4 ]\n",
      " [30.35 29.1 ]\n",
      " [22.42 19.3 ]\n",
      " [10.23 23.1 ]\n",
      " [17.65 19.6 ]\n",
      " [18.27 19.4 ]\n",
      " [35.53 38.7 ]\n",
      " [20.96 18.7 ]\n",
      " [18.3  14.6 ]\n",
      " [17.79 20.  ]\n",
      " [19.97 20.5 ]\n",
      " [24.06 20.1 ]\n",
      " [29.1  23.6 ]\n",
      " [19.28 16.8 ]\n",
      " [11.16  5.6 ]\n",
      " [24.58 50.  ]\n",
      " [17.59 14.5 ]\n",
      " [15.49 13.3 ]\n",
      " [26.21 23.9 ]\n",
      " [20.86 20.  ]\n",
      " [22.31 19.8 ]\n",
      " [15.61 13.8 ]\n",
      " [23.   16.5 ]\n",
      " [25.17 21.6 ]\n",
      " [20.11 20.3 ]\n",
      " [22.9  17.  ]\n",
      " [10.04 11.8 ]\n",
      " [24.29 27.5 ]\n",
      " [20.94 15.6 ]\n",
      " [17.35 23.1 ]\n",
      " [24.52 24.3 ]\n",
      " [29.95 42.8 ]\n",
      " [13.43 15.6 ]\n",
      " [21.73 21.7 ]\n",
      " [20.79 17.1 ]\n",
      " [15.5  17.2 ]\n",
      " [13.99 15.  ]\n",
      " [22.18 21.7 ]\n",
      " [17.73 18.6 ]\n",
      " [21.59 21.  ]\n",
      " [32.91 33.1 ]\n",
      " [31.11 31.5 ]\n",
      " [17.73 20.1 ]\n",
      " [32.76 29.8 ]\n",
      " [18.71 15.2 ]\n",
      " [19.79 15.  ]\n",
      " [19.03 27.5 ]\n",
      " [22.9  22.6 ]\n",
      " [22.96 20.  ]\n",
      " [24.03 21.4 ]\n",
      " [30.73 23.5 ]\n",
      " [28.83 31.2 ]\n",
      " [25.9  23.7 ]\n",
      " [ 5.23  7.4 ]\n",
      " [36.72 48.3 ]\n",
      " [23.77 24.4 ]\n",
      " [27.27 22.6 ]\n",
      " [19.29 18.3 ]\n",
      " [28.62 23.3 ]\n",
      " [19.18 17.1 ]\n",
      " [18.97 27.9 ]\n",
      " [37.82 44.8 ]\n",
      " [39.22 50.  ]\n",
      " [23.71 23.  ]\n",
      " [24.93 21.4 ]\n",
      " [15.89 10.2 ]\n",
      " [26.1  23.3 ]\n",
      " [16.69 23.2 ]\n",
      " [15.84 18.9 ]\n",
      " [13.11 13.4 ]\n",
      " [24.72 21.9 ]\n",
      " [31.25 24.8 ]\n",
      " [22.17 11.9 ]\n",
      " [20.25 24.3 ]\n",
      " [ 0.59 13.8 ]\n",
      " [25.44 24.7 ]\n",
      " [15.57 14.1 ]\n",
      " [17.94 18.7 ]\n",
      " [25.31 28.1 ]\n",
      " [22.37 19.8 ]]\n"
     ]
    }
   ],
   "source": [
    "\n",
    "y_pred = regressor.predict(X_test)\n",
    "y_train_pred=regressor.predict(X_train)\n",
    "np.set_printoptions(precision=2)\n",
    "print(np.concatenate((y_pred.reshape(len(y_pred),1), y_test.reshape(len(y_test),1)),1))"
   ]
  },
  {
   "cell_type": "code",
   "execution_count": 6,
   "id": "08c0fb08",
   "metadata": {},
   "outputs": [
    {
     "name": "stdout",
     "output_type": "stream",
     "text": [
      "MSE train: 19.326, test: 33.449\n",
      "R^2 train: 0.773, test: 0.589\n"
     ]
    }
   ],
   "source": [
    "# Evaluating the Model Performance\n",
    "from sklearn.metrics import r2_score\n",
    "from sklearn.metrics import mean_squared_error, r2_score\n",
    "#print(\"r2 score:\",r2_score(y_test, y_pred))\n",
    "\n",
    "print('MSE train: %.3f, test: %.3f' % (mean_squared_error(y_train, y_train_pred),\n",
    "                mean_squared_error(y_test, y_pred)))\n",
    "print('R^2 train: %.3f, test: %.3f' % (r2_score(y_train, y_train_pred), r2_score(y_test, y_pred)))"
   ]
  },
  {
   "cell_type": "code",
   "execution_count": 13,
   "id": "d1db1c1f",
   "metadata": {},
   "outputs": [],
   "source": [
    "from numpy import absolute\n",
    "model = Ridge(alpha=1.0)\n",
    "model.fit(X,y)\n",
    "y_pred=model.predict(X_test)\n",
    "y_train_pred=model.predict(X_train)"
   ]
  },
  {
   "cell_type": "code",
   "execution_count": 15,
   "id": "705a6d6e",
   "metadata": {},
   "outputs": [
    {
     "name": "stdout",
     "output_type": "stream",
     "text": [
      "MSE train: 19.684, test: 31.393\n",
      "R^2 train: 0.769, test: 0.614\n"
     ]
    }
   ],
   "source": [
    "#Model selection\n",
    "from sklearn.metrics import r2_score\n",
    "from sklearn.metrics import mean_squared_error, r2_score\n",
    "#print(\"r2 score:\",r2_score(y_test, y_pred))\n",
    "\n",
    "print('MSE train: %.3f, test: %.3f' % (mean_squared_error(y_train, y_train_pred),\n",
    "                mean_squared_error(y_test, y_pred)))\n",
    "print('R^2 train: %.3f, test: %.3f' % (r2_score(y_train, y_train_pred), r2_score(y_test, y_pred)))"
   ]
  },
  {
   "cell_type": "code",
   "execution_count": 31,
   "id": "5b2410ec",
   "metadata": {},
   "outputs": [],
   "source": [
    "from numpy import absolute\n",
    "model = Ridge(alpha=1.0)\n",
    "model.fit(X,y)\n",
    "y_pred=model.predict(X_test)\n",
    "y_train_pred=model.predict(X_train)"
   ]
  },
  {
   "cell_type": "code",
   "execution_count": 32,
   "id": "66fac6ff",
   "metadata": {},
   "outputs": [
    {
     "name": "stdout",
     "output_type": "stream",
     "text": [
      "MSE train: 19.684, test: 31.393\n",
      "R^2 train: 0.769, test: 0.614\n"
     ]
    }
   ],
   "source": [
    "#Model selection\n",
    "from sklearn.metrics import r2_score\n",
    "from sklearn.metrics import mean_squared_error, r2_score\n",
    "#print(\"r2 score:\",r2_score(y_test, y_pred))\n",
    "\n",
    "print('MSE train: %.3f, test: %.3f' % (mean_squared_error(y_train, y_train_pred),\n",
    "                mean_squared_error(y_test, y_pred)))\n",
    "print('R^2 train: %.3f, test: %.3f' % (r2_score(y_train, y_train_pred), r2_score(y_test, y_pred)))"
   ]
  },
  {
   "cell_type": "code",
   "execution_count": 29,
   "id": "8f825a3b",
   "metadata": {},
   "outputs": [],
   "source": [
    "from sklearn.linear_model import Lasso\n",
    "# define model\n",
    "model = Lasso(alpha=1.0)\n",
    "model.fit(X_train, y_train)\n",
    "y_pred=model.predict(X_test)\n",
    "y_train_pred=model.predict(X_train)"
   ]
  },
  {
   "cell_type": "code",
   "execution_count": 30,
   "id": "05ad56b8",
   "metadata": {},
   "outputs": [
    {
     "name": "stdout",
     "output_type": "stream",
     "text": [
      "MSE train: 24.092, test: 41.700\n",
      "R^2 train: 0.717, test: 0.488\n"
     ]
    }
   ],
   "source": [
    "#Model selection\n",
    "from sklearn.metrics import r2_score\n",
    "from sklearn.metrics import mean_squared_error, r2_score\n",
    "#print(\"r2 score:\",r2_score(y_test, y_pred))\n",
    "\n",
    "print('MSE train: %.3f, test: %.3f' % (mean_squared_error(y_train, y_train_pred),\n",
    "                mean_squared_error(y_test, y_pred)))\n",
    "print('R^2 train: %.3f, test: %.3f' % (r2_score(y_train, y_train_pred), r2_score(y_test, y_pred)))"
   ]
  }
 ],
 "metadata": {
  "kernelspec": {
   "display_name": "Python 3 (ipykernel)",
   "language": "python",
   "name": "python3"
  },
  "language_info": {
   "codemirror_mode": {
    "name": "ipython",
    "version": 3
   },
   "file_extension": ".py",
   "mimetype": "text/x-python",
   "name": "python",
   "nbconvert_exporter": "python",
   "pygments_lexer": "ipython3",
   "version": "3.10.9"
  }
 },
 "nbformat": 4,
 "nbformat_minor": 5
}
